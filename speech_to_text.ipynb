{
 "cells": [
  {
   "cell_type": "markdown",
   "metadata": {},
   "source": [
    "# Speech to Text\n",
    "\n",
    "Convert speech to text with huggingface.\n",
    "\n",
    "Compare performance for wav2vec2 versus whisper."
   ]
  },
  {
   "cell_type": "code",
   "execution_count": 1,
   "metadata": {},
   "outputs": [],
   "source": [
    "import os\n",
    "import glob\n",
    "import pandas as pd\n",
    "import librosa\n",
    "from transformers import Wav2Vec2ForCTC, Wav2Vec2Processor\n",
    "import torch\n",
    "path = '/Users/tracy.reuter/Desktop/speech_samples'"
   ]
  },
  {
   "cell_type": "markdown",
   "metadata": {},
   "source": [
    "## Using Wav2Vec2"
   ]
  },
  {
   "cell_type": "code",
   "execution_count": 2,
   "metadata": {},
   "outputs": [
    {
     "name": "stderr",
     "output_type": "stream",
     "text": [
      "Some weights of Wav2Vec2ForCTC were not initialized from the model checkpoint at facebook/wav2vec2-base-960h and are newly initialized: ['wav2vec2.masked_spec_embed']\n",
      "You should probably TRAIN this model on a down-stream task to be able to use it for predictions and inference.\n"
     ]
    }
   ],
   "source": [
    "# use wav2vec2 processor and pretrained model\n",
    "processor = Wav2Vec2Processor.from_pretrained(\"facebook/wav2vec2-base-960h\")\n",
    "model = Wav2Vec2ForCTC.from_pretrained(\"facebook/wav2vec2-base-960h\")\n",
    "wav = [] # list to store .wav filenames\n",
    "txt = [] # list to store .txt transcriptions\n",
    "for filename in sorted(glob.glob(os.path.join(path, '*.wav'))):\n",
    "    # load the audio file (.wav format, 16 kHz sampling rate)\n",
    "    audio, rate = librosa.load(filename, sr = 16000)\n",
    "    # get input_values\n",
    "    input_values = processor(audio, return_tensors = \"pt\", sampling_rate = 16000).input_values\n",
    "    # use the model to generate predicted token ids from the input_values\n",
    "    # logits are non-normalized prediction values\n",
    "    prediction = torch.argmax((model(input_values).logits), dim = -1)\n",
    "    # decode token ids to text\n",
    "    transcription = processor.batch_decode(prediction)[0]\n",
    "    # append results\n",
    "    wav.append(filename)\n",
    "    txt.append(transcription)\n",
    "# summarize results\n",
    "df_wav2vec2 = pd.DataFrame({'wav_input': wav, 'txt_output': txt})"
   ]
  },
  {
   "cell_type": "markdown",
   "metadata": {},
   "source": [
    "## Using OpenAI Whisper"
   ]
  },
  {
   "cell_type": "code",
   "execution_count": 3,
   "metadata": {},
   "outputs": [],
   "source": [
    "from transformers import WhisperProcessor, WhisperForConditionalGeneration\n",
    "# Load the Whisper model in Hugging Face format:\n",
    "processor = WhisperProcessor.from_pretrained(\"openai/whisper-tiny.en\")\n",
    "model = WhisperForConditionalGeneration.from_pretrained(\"openai/whisper-tiny.en\")\n",
    "wav = [] # list to store .wav filenames\n",
    "txt = [] # list to store .txt transcriptions\n",
    "for filename in sorted(glob.glob(os.path.join(path, '*.wav'))):\n",
    "    # load the audio file (.wav format, 16 kHz sampling rate)\n",
    "    audio, rate = librosa.load(filename, sr = 16000)\n",
    "    # get input_features\n",
    "    input_features = processor(audio, return_tensors = \"pt\", sampling_rate = 16000).input_features\n",
    "    # use the model to generate predicted token ids from the input_features\n",
    "    predicted_ids = model.generate(input_features)\n",
    "    # decode token ids to text\n",
    "    transcription = processor.batch_decode(predicted_ids, skip_special_tokens = True)\n",
    "    # append results\n",
    "    wav.append(filename)\n",
    "    txt.append(transcription)\n",
    "# summarize results\n",
    "df_whisper = pd.DataFrame({'wav_input': wav, 'txt_output': txt})"
   ]
  },
  {
   "cell_type": "markdown",
   "metadata": {},
   "source": [
    "## Comparing Results"
   ]
  },
  {
   "cell_type": "code",
   "execution_count": 4,
   "metadata": {},
   "outputs": [
    {
     "name": "stdout",
     "output_type": "stream",
     "text": [
      "                                                 wav_input                    txt_output\n",
      "  /Users/tracy.reuter/Desktop/speech_samples/the.apple.wav   LOOK AT THE WONDERFUL APPLE\n",
      " /Users/tracy.reuter/Desktop/speech_samples/the.apples.wav   LOOK AT THE WONDERFUL APPLE\n",
      "   /Users/tracy.reuter/Desktop/speech_samples/the.baby.wav    LOOK AT THE BEAUTIFUL BABY\n",
      "  /Users/tracy.reuter/Desktop/speech_samples/the.babys.wav  LOOK AT THE BEAUTIFUL BABIES\n",
      "   /Users/tracy.reuter/Desktop/speech_samples/the.bike.wav    LOOK AT THE WONDERFUL BIKE\n",
      "  /Users/tracy.reuter/Desktop/speech_samples/the.bikes.wav   LOOK AT THE WONDERFUL BIKES\n",
      " /Users/tracy.reuter/Desktop/speech_samples/the.cookie.wav  LOOK AT THE WONDERFUL COOKIE\n",
      "/Users/tracy.reuter/Desktop/speech_samples/the.cookies.wav LOOK AT THE WONDERFUL COOKIES\n",
      "  /Users/tracy.reuter/Desktop/speech_samples/the.doggy.wav   LOOK AT THE BEAUTIFUL DOGGY\n",
      " /Users/tracy.reuter/Desktop/speech_samples/the.doggys.wav LOOK AT THE BEAUTIFUL DOGGIYS\n",
      "  /Users/tracy.reuter/Desktop/speech_samples/the.kitty.wav   LOOK AT THE BEAUTIFUL KITTY\n",
      " /Users/tracy.reuter/Desktop/speech_samples/the.kittys.wav LOOK AT THE BEAUTIFUL KITTIES\n",
      "  /Users/tracy.reuter/Desktop/speech_samples/the.truck.wav   LOOK AT THE WONDERFUL TRUCK\n",
      " /Users/tracy.reuter/Desktop/speech_samples/the.trucks.wav  LOOK AT THE WONDERFUL TRUCKS\n",
      " /Users/tracy.reuter/Desktop/speech_samples/the.turtle.wav  LOOK AT THE BEAUTIFUL TURTLE\n",
      "/Users/tracy.reuter/Desktop/speech_samples/the.turtles.wav LOOK AT THE BEAUTIFUL TURTLES\n"
     ]
    }
   ],
   "source": [
    "pd.set_option('display.max_colwidth', None)\n",
    "print(df_wav2vec2.to_string(index=False))"
   ]
  },
  {
   "cell_type": "code",
   "execution_count": 5,
   "metadata": {},
   "outputs": [
    {
     "name": "stdout",
     "output_type": "stream",
     "text": [
      "                                                 wav_input                        txt_output\n",
      "  /Users/tracy.reuter/Desktop/speech_samples/the.apple.wav   [ Look at the wonderful apple.]\n",
      " /Users/tracy.reuter/Desktop/speech_samples/the.apples.wav  [ Look at the wonderful apples.]\n",
      "   /Users/tracy.reuter/Desktop/speech_samples/the.baby.wav    [ Look at the beautiful baby.]\n",
      "  /Users/tracy.reuter/Desktop/speech_samples/the.babys.wav  [ Look at the beautiful babies.]\n",
      "   /Users/tracy.reuter/Desktop/speech_samples/the.bike.wav    [ Look at the wonderful bike.]\n",
      "  /Users/tracy.reuter/Desktop/speech_samples/the.bikes.wav   [ Look at the wonderful bikes.]\n",
      " /Users/tracy.reuter/Desktop/speech_samples/the.cookie.wav  [ Look at the wonderful cookie.]\n",
      "/Users/tracy.reuter/Desktop/speech_samples/the.cookies.wav [ Look at the wonderful cookies.]\n",
      "  /Users/tracy.reuter/Desktop/speech_samples/the.doggy.wav   [ Look at the beautiful doggy.]\n",
      " /Users/tracy.reuter/Desktop/speech_samples/the.doggys.wav [ Look at the beautiful doggies!]\n",
      "  /Users/tracy.reuter/Desktop/speech_samples/the.kitty.wav   [ Look at the beautiful kitty!]\n",
      " /Users/tracy.reuter/Desktop/speech_samples/the.kittys.wav [ Look at the beautiful kitties!]\n",
      "  /Users/tracy.reuter/Desktop/speech_samples/the.truck.wav   [ Look at the wonderful truck.]\n",
      " /Users/tracy.reuter/Desktop/speech_samples/the.trucks.wav  [ Look at the wonderful trucks.]\n",
      " /Users/tracy.reuter/Desktop/speech_samples/the.turtle.wav  [ Look at the beautiful turtle.]\n",
      "/Users/tracy.reuter/Desktop/speech_samples/the.turtles.wav [ Look at the beautiful turtles.]\n"
     ]
    }
   ],
   "source": [
    "print(df_whisper.to_string(index=False))"
   ]
  },
  {
   "cell_type": "markdown",
   "metadata": {},
   "source": [
    "## Conclusion\n",
    "\n",
    "IMO, Whisper beats Wav2Vec2 in at least 3 ways:\n",
    "\n",
    "1. More performant.\n",
    "\n",
    "- Transcribed 20% faster.\n",
    "\n",
    "- Future enhancements could increase speed.\n",
    "\n",
    "2. More accurate.\n",
    "\n",
    "- Transcribed \"apple\" versus \"apples\" correctly.\n",
    "\n",
    "- Spelled \"doggies\" correctly as \"doggies\", not as \"DOGGIYS\".\n",
    "\n",
    "3. More nuanced.\n",
    "\n",
    "- Transcribed 3 sentences with emphatic punctuation (! instead of .)\n",
    "\n",
    "- Punctuation indicates emphasis and emotion, useful for downstream sentiment analysis."
   ]
  }
 ],
 "metadata": {
  "kernelspec": {
   "display_name": "base",
   "language": "python",
   "name": "python3"
  },
  "language_info": {
   "codemirror_mode": {
    "name": "ipython",
    "version": 3
   },
   "file_extension": ".py",
   "mimetype": "text/x-python",
   "name": "python",
   "nbconvert_exporter": "python",
   "pygments_lexer": "ipython3",
   "version": "3.10.9"
  }
 },
 "nbformat": 4,
 "nbformat_minor": 2
}
